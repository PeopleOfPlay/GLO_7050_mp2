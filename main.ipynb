{
 "metadata": {
  "language_info": {
   "codemirror_mode": {
    "name": "ipython",
    "version": 3
   },
   "file_extension": ".py",
   "mimetype": "text/x-python",
   "name": "python",
   "nbconvert_exporter": "python",
   "pygments_lexer": "ipython3",
   "version": "3.8.5-final"
  },
  "orig_nbformat": 2,
  "kernelspec": {
   "name": "python3",
   "display_name": "Python 3",
   "language": "python"
  }
 },
 "nbformat": 4,
 "nbformat_minor": 2,
 "cells": [
  {
   "cell_type": "code",
   "execution_count": 1,
   "metadata": {},
   "outputs": [],
   "source": [
    "# Modules"
   ]
  },
  {
   "cell_type": "code",
   "execution_count": 2,
   "metadata": {},
   "outputs": [],
   "source": [
    "import pandas as pd\n",
    "import numpy as np"
   ]
  },
  {
   "cell_type": "code",
   "execution_count": 3,
   "metadata": {},
   "outputs": [],
   "source": [
    "# Data import"
   ]
  },
  {
   "cell_type": "code",
   "execution_count": 4,
   "metadata": {},
   "outputs": [
    {
     "output_type": "execute_result",
     "data": {
      "text/plain": [
       "                                          commentaire\n",
       "id                                                   \n",
       "0   Bon jeu!on peut &eacute;voluer tout au long du...\n",
       "1   Mon fils de 2 ans a eu ce train pour noël. Il ...\n",
       "2   Training card game sympa mais sans plus on en ...\n",
       "3   Super livre je le recommande les les recettes ...\n",
       "4   J'AI BEAUCOUP AIME CE FILM, UN DESSIN ANIME TR..."
      ],
      "text/html": "<div>\n<style scoped>\n    .dataframe tbody tr th:only-of-type {\n        vertical-align: middle;\n    }\n\n    .dataframe tbody tr th {\n        vertical-align: top;\n    }\n\n    .dataframe thead th {\n        text-align: right;\n    }\n</style>\n<table border=\"1\" class=\"dataframe\">\n  <thead>\n    <tr style=\"text-align: right;\">\n      <th></th>\n      <th>commentaire</th>\n    </tr>\n    <tr>\n      <th>id</th>\n      <th></th>\n    </tr>\n  </thead>\n  <tbody>\n    <tr>\n      <th>0</th>\n      <td>Bon jeu!on peut &amp;eacute;voluer tout au long du...</td>\n    </tr>\n    <tr>\n      <th>1</th>\n      <td>Mon fils de 2 ans a eu ce train pour noël. Il ...</td>\n    </tr>\n    <tr>\n      <th>2</th>\n      <td>Training card game sympa mais sans plus on en ...</td>\n    </tr>\n    <tr>\n      <th>3</th>\n      <td>Super livre je le recommande les les recettes ...</td>\n    </tr>\n    <tr>\n      <th>4</th>\n      <td>J'AI BEAUCOUP AIME CE FILM, UN DESSIN ANIME TR...</td>\n    </tr>\n  </tbody>\n</table>\n</div>"
     },
     "metadata": {},
     "execution_count": 4
    }
   ],
   "source": [
    "test_data = pd.read_csv('./data/test.csv').set_index('id')\n",
    "test_data.head()"
   ]
  },
  {
   "cell_type": "code",
   "execution_count": 5,
   "metadata": {},
   "outputs": [
    {
     "output_type": "execute_result",
     "data": {
      "text/plain": [
       "                                          commentaire evaluation\n",
       "id                                                              \n",
       "0   Ayant obtenu un succ&egrave;s massif des deux ...    positif\n",
       "1   FOR THE FIRST TIME IN OVER 20 YEARS – AN EXPER...    positif\n",
       "2   Une édition hors de prix avec une bande son fr...    negatif\n",
       "3   Je suis étonnée par les commentaires péjoratif...    positif\n",
       "4   Ca s'est bien passé et puis voilà ! De plus le...    positif"
      ],
      "text/html": "<div>\n<style scoped>\n    .dataframe tbody tr th:only-of-type {\n        vertical-align: middle;\n    }\n\n    .dataframe tbody tr th {\n        vertical-align: top;\n    }\n\n    .dataframe thead th {\n        text-align: right;\n    }\n</style>\n<table border=\"1\" class=\"dataframe\">\n  <thead>\n    <tr style=\"text-align: right;\">\n      <th></th>\n      <th>commentaire</th>\n      <th>evaluation</th>\n    </tr>\n    <tr>\n      <th>id</th>\n      <th></th>\n      <th></th>\n    </tr>\n  </thead>\n  <tbody>\n    <tr>\n      <th>0</th>\n      <td>Ayant obtenu un succ&amp;egrave;s massif des deux ...</td>\n      <td>positif</td>\n    </tr>\n    <tr>\n      <th>1</th>\n      <td>FOR THE FIRST TIME IN OVER 20 YEARS – AN EXPER...</td>\n      <td>positif</td>\n    </tr>\n    <tr>\n      <th>2</th>\n      <td>Une édition hors de prix avec une bande son fr...</td>\n      <td>negatif</td>\n    </tr>\n    <tr>\n      <th>3</th>\n      <td>Je suis étonnée par les commentaires péjoratif...</td>\n      <td>positif</td>\n    </tr>\n    <tr>\n      <th>4</th>\n      <td>Ca s'est bien passé et puis voilà ! De plus le...</td>\n      <td>positif</td>\n    </tr>\n  </tbody>\n</table>\n</div>"
     },
     "metadata": {},
     "execution_count": 5
    }
   ],
   "source": [
    "train_data = pd.read_csv('./data/train.csv').set_index('id')\n",
    "train_data.head()"
   ]
  },
  {
   "cell_type": "code",
   "execution_count": 6,
   "metadata": {},
   "outputs": [
    {
     "output_type": "execute_result",
     "data": {
      "text/plain": [
       "                                              commentaire evaluation\n",
       "count                                               60000      60000\n",
       "unique                                              59688          2\n",
       "top     Envoi Parfait et soigné, je suis très content ...    positif\n",
       "freq                                                    9      42363"
      ],
      "text/html": "<div>\n<style scoped>\n    .dataframe tbody tr th:only-of-type {\n        vertical-align: middle;\n    }\n\n    .dataframe tbody tr th {\n        vertical-align: top;\n    }\n\n    .dataframe thead th {\n        text-align: right;\n    }\n</style>\n<table border=\"1\" class=\"dataframe\">\n  <thead>\n    <tr style=\"text-align: right;\">\n      <th></th>\n      <th>commentaire</th>\n      <th>evaluation</th>\n    </tr>\n  </thead>\n  <tbody>\n    <tr>\n      <th>count</th>\n      <td>60000</td>\n      <td>60000</td>\n    </tr>\n    <tr>\n      <th>unique</th>\n      <td>59688</td>\n      <td>2</td>\n    </tr>\n    <tr>\n      <th>top</th>\n      <td>Envoi Parfait et soigné, je suis très content ...</td>\n      <td>positif</td>\n    </tr>\n    <tr>\n      <th>freq</th>\n      <td>9</td>\n      <td>42363</td>\n    </tr>\n  </tbody>\n</table>\n</div>"
     },
     "metadata": {},
     "execution_count": 6
    }
   ],
   "source": [
    "train_data.describe()"
   ]
  },
  {
   "cell_type": "code",
   "execution_count": 7,
   "metadata": {},
   "outputs": [],
   "source": [
    "# Traitement des données"
   ]
  },
  {
   "cell_type": "code",
   "execution_count": 8,
   "metadata": {},
   "outputs": [],
   "source": [
    "import re\n",
    "import nltk.corpus\n",
    "from nltk.corpus import stopwords\n",
    "from django.utils.text import unescape_entities\n",
    "#nltk.download('stopwords')\n",
    "\n",
    "def clean_text(df, text_field, new_text_field_name):\n",
    "    stop = stopwords.words('french') + stopwords.words('english')\n",
    "    char_list = ['&', ';']\n",
    "\n",
    "    # Majuscule\n",
    "    df[new_text_field_name] = df[text_field].str.lower()\n",
    "    # Les mots en avec des & et ; dedans\n",
    "    df[new_text_field_name] = df[new_text_field_name].apply(lambda elem: unescape_entities(elem))\n",
    "    # Accent\n",
    "    df[new_text_field_name] = df[new_text_field_name].str.normalize('NFKD').str.encode('ascii', errors='ignore').str.decode('utf-8')\n",
    "    # <br />\n",
    "    df[new_text_field_name] = df[new_text_field_name].apply(lambda elem: re.sub(r'<br />', ' ', elem))\n",
    "    # Caractere spéciaux\n",
    "    df[new_text_field_name] = df[new_text_field_name].apply(lambda elem: re.sub(r'(@[A-Za-z0-9]+)|([^0-9A-Za-z \\t])', '', elem))\n",
    "    # Nombre\n",
    "    df[new_text_field_name] = df[new_text_field_name].apply(lambda elem: re.sub(r'\\d+', '', elem))\n",
    "    # Double espace\n",
    "    df[new_text_field_name] = df[new_text_field_name].apply(lambda elem: re.sub(r'\\s+', ' ', elem))\n",
    "    # Mot de liaison\n",
    "    df[new_text_field_name] = df[new_text_field_name].apply(lambda elem: ' '.join([word for word in elem.split() if word not in (stop)]))\n",
    "    \n",
    "    return df"
   ]
  },
  {
   "cell_type": "code",
   "execution_count": 9,
   "metadata": {},
   "outputs": [
    {
     "output_type": "execute_result",
     "data": {
      "text/plain": [
       "                                          commentaire evaluation  \\\n",
       "id                                                                 \n",
       "0   Ayant obtenu un succ&egrave;s massif des deux ...    positif   \n",
       "1   FOR THE FIRST TIME IN OVER 20 YEARS – AN EXPER...    positif   \n",
       "2   Une édition hors de prix avec une bande son fr...    negatif   \n",
       "3   Je suis étonnée par les commentaires péjoratif...    positif   \n",
       "4   Ca s'est bien passé et puis voilà ! De plus le...    positif   \n",
       "\n",
       "                                    commentaire_clean  \n",
       "id                                                     \n",
       "0   obtenu succes massif deux cotes latlantique bl...  \n",
       "1   first time years expert authoritative work rio...  \n",
       "2   edition hors prix bande francaise nest hd enco...  \n",
       "3   etonnee commentaires pejoratif film effet jai ...  \n",
       "4   ca sest bien passe puis voila plus cd coldplay...  "
      ],
      "text/html": "<div>\n<style scoped>\n    .dataframe tbody tr th:only-of-type {\n        vertical-align: middle;\n    }\n\n    .dataframe tbody tr th {\n        vertical-align: top;\n    }\n\n    .dataframe thead th {\n        text-align: right;\n    }\n</style>\n<table border=\"1\" class=\"dataframe\">\n  <thead>\n    <tr style=\"text-align: right;\">\n      <th></th>\n      <th>commentaire</th>\n      <th>evaluation</th>\n      <th>commentaire_clean</th>\n    </tr>\n    <tr>\n      <th>id</th>\n      <th></th>\n      <th></th>\n      <th></th>\n    </tr>\n  </thead>\n  <tbody>\n    <tr>\n      <th>0</th>\n      <td>Ayant obtenu un succ&amp;egrave;s massif des deux ...</td>\n      <td>positif</td>\n      <td>obtenu succes massif deux cotes latlantique bl...</td>\n    </tr>\n    <tr>\n      <th>1</th>\n      <td>FOR THE FIRST TIME IN OVER 20 YEARS – AN EXPER...</td>\n      <td>positif</td>\n      <td>first time years expert authoritative work rio...</td>\n    </tr>\n    <tr>\n      <th>2</th>\n      <td>Une édition hors de prix avec une bande son fr...</td>\n      <td>negatif</td>\n      <td>edition hors prix bande francaise nest hd enco...</td>\n    </tr>\n    <tr>\n      <th>3</th>\n      <td>Je suis étonnée par les commentaires péjoratif...</td>\n      <td>positif</td>\n      <td>etonnee commentaires pejoratif film effet jai ...</td>\n    </tr>\n    <tr>\n      <th>4</th>\n      <td>Ca s'est bien passé et puis voilà ! De plus le...</td>\n      <td>positif</td>\n      <td>ca sest bien passe puis voila plus cd coldplay...</td>\n    </tr>\n  </tbody>\n</table>\n</div>"
     },
     "metadata": {},
     "execution_count": 9
    }
   ],
   "source": [
    "train_data_clean = clean_text(train_data, 'commentaire', 'commentaire_clean')\n",
    "test_data_clean = clean_text(test_data, 'commentaire', 'commentaire_clean')\n",
    "train_data_clean.head()"
   ]
  },
  {
   "cell_type": "code",
   "execution_count": 10,
   "metadata": {},
   "outputs": [],
   "source": [
    "X_test = np.array(test_data_clean['commentaire_clean'])\n",
    "X, y = np.array(train_data_clean['commentaire_clean']), np.array(train_data_clean['evaluation'])"
   ]
  },
  {
   "cell_type": "code",
   "execution_count": 11,
   "metadata": {},
   "outputs": [
    {
     "output_type": "stream",
     "name": "stdout",
     "text": [
      "bonjour,<br />il amis 5 jours au lieu de 24h comme pr&eacute;vu de plus la pochette &eacute;tait toute cass&eacute;e heureusement le dvd n'avait rien\n\nbonjour amis jours lieu h comme prevu plus pochette etait toute cassee heureusement dvd navait rien\n"
     ]
    }
   ],
   "source": [
    "print(train_data_clean['commentaire'].iloc[25])\n",
    "print()\n",
    "print(train_data_clean['commentaire_clean'].iloc[25])"
   ]
  },
  {
   "cell_type": "code",
   "execution_count": 12,
   "metadata": {},
   "outputs": [],
   "source": [
    "# Code"
   ]
  },
  {
   "cell_type": "code",
   "execution_count": 34,
   "metadata": {},
   "outputs": [],
   "source": [
    "from sklearn.model_selection import train_test_split\n",
    "from sklearn.feature_extraction.text import CountVectorizer\n",
    "from sklearn.feature_extraction.text import TfidfTransformer\n",
    "\n",
    "X_train, X_valid, y_train, y_valid = train_test_split(X, y, test_size=0.20, random_state=69420)\n",
    "\n",
    "vect = CountVectorizer()\n",
    "tf_vect = TfidfTransformer()\n",
    "\n",
    "# X_train\n",
    "X_train_counts = vect.fit_transform(X_train)\n",
    "X_train_tfidf = tf_vect.fit_transform(X_train_counts)\n",
    "\n",
    "# X_valid\n",
    "X_valid_counts = vect.transform(X_valid)\n",
    "X_valid_tfidf = tf_vect.transform(X_valid_counts)\n",
    "\n",
    "# X_test\n",
    "X_test_counts = vect.transform(X_test)\n",
    "X_test_tfidf = tf_vect.transform(X_test_counts)"
   ]
  },
  {
   "cell_type": "code",
   "execution_count": 14,
   "metadata": {},
   "outputs": [
    {
     "output_type": "execute_result",
     "data": {
      "text/plain": [
       "0.74575"
      ]
     },
     "metadata": {},
     "execution_count": 14
    }
   ],
   "source": [
    "# 1/2 SKLEARN Naives Bayes Multinomial NB\n",
    "from sklearn.naive_bayes import MultinomialNB\n",
    "from sklearn import *\n",
    "\n",
    "clf = MultinomialNB()\n",
    "clf.fit(X_train_tfidf, y_train)\n",
    "clf.score(X_valid_tfidf, y_valid)\n"
   ]
  },
  {
   "cell_type": "code",
   "execution_count": 16,
   "metadata": {},
   "outputs": [
    {
     "output_type": "execute_result",
     "data": {
      "text/plain": [
       "0.7655"
      ]
     },
     "metadata": {},
     "execution_count": 16
    }
   ],
   "source": [
    "# 1/2 SKLEARN Decision Tree\n",
    "from sklearn.tree import DecisionTreeClassifier\n",
    "clf = DecisionTreeClassifier(random_state=0)\n",
    "clf.fit(X_train_tfidf, y_train)\n",
    "clf.score(X_valid_tfidf, y_valid)\n"
   ]
  },
  {
   "cell_type": "code",
   "execution_count": 18,
   "metadata": {},
   "outputs": [],
   "source": [
    "# 2/2 SKLEARN Logistic Regression\n",
    "from sklearn.linear_model import LogisticRegression\n",
    "\n",
    "clf = LogisticRegression()\n",
    "clf.fit(X_train_tfidf, y_train)\n",
    "clf.score(X_valid_tfidf, y_valid)\n",
    "y_test_predict = clf.predict(X_test_tfidf)"
   ]
  },
  {
   "cell_type": "code",
   "execution_count": 33,
   "metadata": {},
   "outputs": [],
   "source": [
    "y_pred = clf.predict(X_test_tfidf)\n",
    "y_pred_df = pd.DataFrame(y_pred, columns=['evaluation'])\n",
    "y_pred_df.index.names = ['id']\n",
    "y_pred_df.to_csv('./results/y_pred.csv')"
   ]
  },
  {
   "cell_type": "code",
   "execution_count": 52,
   "metadata": {},
   "outputs": [
    {
     "output_type": "stream",
     "name": "stdout",
     "text": [
      "positif\n"
     ]
    },
    {
     "output_type": "error",
     "ename": "TypeError",
     "evalue": "ufunc 'isnan' not supported for the input types, and the inputs could not be safely coerced to any supported types according to the casting rule ''safe''",
     "traceback": [
      "\u001b[0;31m---------------------------------------------------------------------------\u001b[0m",
      "\u001b[0;31mTypeError\u001b[0m                                 Traceback (most recent call last)",
      "\u001b[0;32m<ipython-input-52-6f92ea2f3c32>\u001b[0m in \u001b[0;36m<module>\u001b[0;34m\u001b[0m\n\u001b[1;32m      5\u001b[0m \u001b[0;32mfor\u001b[0m \u001b[0mdata\u001b[0m\u001b[0;34m,\u001b[0m \u001b[0mdataclass\u001b[0m \u001b[0;32min\u001b[0m \u001b[0mzip\u001b[0m\u001b[0;34m(\u001b[0m\u001b[0mX_train_tfidf\u001b[0m\u001b[0;34m,\u001b[0m \u001b[0my_train\u001b[0m\u001b[0;34m)\u001b[0m\u001b[0;34m:\u001b[0m\u001b[0;34m\u001b[0m\u001b[0;34m\u001b[0m\u001b[0m\n\u001b[1;32m      6\u001b[0m     \u001b[0mprint\u001b[0m\u001b[0;34m(\u001b[0m\u001b[0mdataclass\u001b[0m\u001b[0;34m)\u001b[0m\u001b[0;34m\u001b[0m\u001b[0;34m\u001b[0m\u001b[0m\n\u001b[0;32m----> 7\u001b[0;31m     \u001b[0;32mif\u001b[0m \u001b[0mdataClass\u001b[0m \u001b[0;34m==\u001b[0m \u001b[0;34m'positive'\u001b[0m\u001b[0;34m:\u001b[0m\u001b[0;34m\u001b[0m\u001b[0;34m\u001b[0m\u001b[0m\n\u001b[0m\u001b[1;32m      8\u001b[0m         \u001b[0mclasse\u001b[0m\u001b[0;34m[\u001b[0m\u001b[0;36m0\u001b[0m\u001b[0;34m]\u001b[0m\u001b[0;34m.\u001b[0m\u001b[0mappend\u001b[0m\u001b[0;34m(\u001b[0m\u001b[0mdata\u001b[0m\u001b[0;34m)\u001b[0m\u001b[0;34m\u001b[0m\u001b[0;34m\u001b[0m\u001b[0m\n\u001b[1;32m      9\u001b[0m     \u001b[0;32melse\u001b[0m\u001b[0;34m:\u001b[0m\u001b[0;34m\u001b[0m\u001b[0;34m\u001b[0m\u001b[0m\n",
      "\u001b[0;32m~/opt/anaconda3/lib/python3.8/site-packages/scipy/sparse/compressed.py\u001b[0m in \u001b[0;36m__eq__\u001b[0;34m(self, other)\u001b[0m\n\u001b[1;32m    215\u001b[0m         \u001b[0;31m# Scalar other.\u001b[0m\u001b[0;34m\u001b[0m\u001b[0;34m\u001b[0m\u001b[0;34m\u001b[0m\u001b[0m\n\u001b[1;32m    216\u001b[0m         \u001b[0;32mif\u001b[0m \u001b[0misscalarlike\u001b[0m\u001b[0;34m(\u001b[0m\u001b[0mother\u001b[0m\u001b[0;34m)\u001b[0m\u001b[0;34m:\u001b[0m\u001b[0;34m\u001b[0m\u001b[0;34m\u001b[0m\u001b[0m\n\u001b[0;32m--> 217\u001b[0;31m             \u001b[0;32mif\u001b[0m \u001b[0mnp\u001b[0m\u001b[0;34m.\u001b[0m\u001b[0misnan\u001b[0m\u001b[0;34m(\u001b[0m\u001b[0mother\u001b[0m\u001b[0;34m)\u001b[0m\u001b[0;34m:\u001b[0m\u001b[0;34m\u001b[0m\u001b[0;34m\u001b[0m\u001b[0m\n\u001b[0m\u001b[1;32m    218\u001b[0m                 \u001b[0;32mreturn\u001b[0m \u001b[0mself\u001b[0m\u001b[0;34m.\u001b[0m\u001b[0m__class__\u001b[0m\u001b[0;34m(\u001b[0m\u001b[0mself\u001b[0m\u001b[0;34m.\u001b[0m\u001b[0mshape\u001b[0m\u001b[0;34m,\u001b[0m \u001b[0mdtype\u001b[0m\u001b[0;34m=\u001b[0m\u001b[0mnp\u001b[0m\u001b[0;34m.\u001b[0m\u001b[0mbool_\u001b[0m\u001b[0;34m)\u001b[0m\u001b[0;34m\u001b[0m\u001b[0;34m\u001b[0m\u001b[0m\n\u001b[1;32m    219\u001b[0m \u001b[0;34m\u001b[0m\u001b[0m\n",
      "\u001b[0;31mTypeError\u001b[0m: ufunc 'isnan' not supported for the input types, and the inputs could not be safely coerced to any supported types according to the casting rule ''safe''"
     ]
    }
   ],
   "source": [
    "# Bayesien Naïf \n",
    "classe = {}\n",
    "classe[0], classe[1] = [], []\n",
    "total = 0\n",
    "for data, dataclass in zip(X_train_tfidf, y_train):\n",
    "    prin\n",
    "    print(dataclass)\n",
    "    '''if dataClass == 'positive':\n",
    "        classe[0].append(data)\n",
    "    else:\n",
    "        classe[1].append(data)'''\n",
    "\n",
    "print(classe)\n",
    "\n"
   ]
  },
  {
   "cell_type": "code",
   "execution_count": null,
   "metadata": {},
   "outputs": [],
   "source": []
  }
 ]
}